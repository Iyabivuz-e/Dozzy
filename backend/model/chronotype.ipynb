{
 "cells": [
  {
   "cell_type": "markdown",
   "metadata": {},
   "source": [
    "## Importing the necessary libraries"
   ]
  },
  {
   "cell_type": "code",
   "execution_count": 3,
   "metadata": {},
   "outputs": [],
   "source": [
    "import numpy as np\n",
    "import pandas as pd\n",
    "import sklearn\n",
    "import matplotlib.pyplot as plt"
   ]
  },
  {
   "cell_type": "markdown",
   "metadata": {},
   "source": [
    "## Data Exploration and Preprocessing"
   ]
  },
  {
   "cell_type": "code",
   "execution_count": 14,
   "metadata": {},
   "outputs": [],
   "source": [
    "## Load dozzy dataset\n",
    "df = pd.read_csv('../dozzy_data.csv')"
   ]
  },
  {
   "cell_type": "code",
   "execution_count": 5,
   "metadata": {},
   "outputs": [
    {
     "data": {
      "text/plain": [
       "(300, 12)"
      ]
     },
     "execution_count": 5,
     "metadata": {},
     "output_type": "execute_result"
    }
   ],
   "source": [
    "## Check the columns and rows of the data - the shape of the data\n",
    "df.shape"
   ]
  },
  {
   "cell_type": "code",
   "execution_count": 6,
   "metadata": {},
   "outputs": [
    {
     "data": {
      "text/html": [
       "<div>\n",
       "<style scoped>\n",
       "    .dataframe tbody tr th:only-of-type {\n",
       "        vertical-align: middle;\n",
       "    }\n",
       "\n",
       "    .dataframe tbody tr th {\n",
       "        vertical-align: top;\n",
       "    }\n",
       "\n",
       "    .dataframe thead th {\n",
       "        text-align: right;\n",
       "    }\n",
       "</style>\n",
       "<table border=\"1\" class=\"dataframe\">\n",
       "  <thead>\n",
       "    <tr style=\"text-align: right;\">\n",
       "      <th></th>\n",
       "      <th>q1</th>\n",
       "      <th>q2</th>\n",
       "      <th>q3</th>\n",
       "      <th>q4</th>\n",
       "      <th>q5</th>\n",
       "      <th>q6</th>\n",
       "      <th>q7</th>\n",
       "      <th>chronotype</th>\n",
       "      <th>timestamp</th>\n",
       "      <th>id</th>\n",
       "      <th>score_variance</th>\n",
       "      <th>confidence</th>\n",
       "    </tr>\n",
       "  </thead>\n",
       "  <tbody>\n",
       "    <tr>\n",
       "      <th>0</th>\n",
       "      <td>0</td>\n",
       "      <td>2</td>\n",
       "      <td>1</td>\n",
       "      <td>1</td>\n",
       "      <td>0</td>\n",
       "      <td>0</td>\n",
       "      <td>0</td>\n",
       "      <td>Night Owl</td>\n",
       "      <td>2025-03-14 02:08:53</td>\n",
       "      <td>1</td>\n",
       "      <td>0.619048</td>\n",
       "      <td>60.0</td>\n",
       "    </tr>\n",
       "    <tr>\n",
       "      <th>1</th>\n",
       "      <td>2</td>\n",
       "      <td>1</td>\n",
       "      <td>1</td>\n",
       "      <td>0</td>\n",
       "      <td>2</td>\n",
       "      <td>3</td>\n",
       "      <td>0</td>\n",
       "      <td>Night Owl</td>\n",
       "      <td>2025-03-14 02:08:53</td>\n",
       "      <td>2</td>\n",
       "      <td>1.238095</td>\n",
       "      <td>60.0</td>\n",
       "    </tr>\n",
       "    <tr>\n",
       "      <th>2</th>\n",
       "      <td>1</td>\n",
       "      <td>1</td>\n",
       "      <td>0</td>\n",
       "      <td>0</td>\n",
       "      <td>1</td>\n",
       "      <td>0</td>\n",
       "      <td>0</td>\n",
       "      <td>Night Owl</td>\n",
       "      <td>2025-03-14 02:08:53</td>\n",
       "      <td>3</td>\n",
       "      <td>0.285714</td>\n",
       "      <td>60.0</td>\n",
       "    </tr>\n",
       "    <tr>\n",
       "      <th>3</th>\n",
       "      <td>2</td>\n",
       "      <td>0</td>\n",
       "      <td>0</td>\n",
       "      <td>1</td>\n",
       "      <td>0</td>\n",
       "      <td>2</td>\n",
       "      <td>0</td>\n",
       "      <td>Night Owl</td>\n",
       "      <td>2025-03-14 02:08:53</td>\n",
       "      <td>4</td>\n",
       "      <td>0.904762</td>\n",
       "      <td>60.0</td>\n",
       "    </tr>\n",
       "    <tr>\n",
       "      <th>4</th>\n",
       "      <td>5</td>\n",
       "      <td>5</td>\n",
       "      <td>4</td>\n",
       "      <td>2</td>\n",
       "      <td>5</td>\n",
       "      <td>4</td>\n",
       "      <td>4</td>\n",
       "      <td>Morning Lark</td>\n",
       "      <td>2025-03-14 02:08:53</td>\n",
       "      <td>5</td>\n",
       "      <td>1.142857</td>\n",
       "      <td>60.0</td>\n",
       "    </tr>\n",
       "  </tbody>\n",
       "</table>\n",
       "</div>"
      ],
      "text/plain": [
       "   q1  q2  q3  q4  q5  q6  q7    chronotype            timestamp  id  \\\n",
       "0   0   2   1   1   0   0   0     Night Owl  2025-03-14 02:08:53   1   \n",
       "1   2   1   1   0   2   3   0     Night Owl  2025-03-14 02:08:53   2   \n",
       "2   1   1   0   0   1   0   0     Night Owl  2025-03-14 02:08:53   3   \n",
       "3   2   0   0   1   0   2   0     Night Owl  2025-03-14 02:08:53   4   \n",
       "4   5   5   4   2   5   4   4  Morning Lark  2025-03-14 02:08:53   5   \n",
       "\n",
       "   score_variance  confidence  \n",
       "0        0.619048        60.0  \n",
       "1        1.238095        60.0  \n",
       "2        0.285714        60.0  \n",
       "3        0.904762        60.0  \n",
       "4        1.142857        60.0  "
      ]
     },
     "execution_count": 6,
     "metadata": {},
     "output_type": "execute_result"
    }
   ],
   "source": [
    "## Checking the first 5 data \n",
    "df.head(5)"
   ]
  },
  {
   "cell_type": "code",
   "execution_count": 7,
   "metadata": {},
   "outputs": [
    {
     "name": "stdout",
     "output_type": "stream",
     "text": [
      "<class 'pandas.core.frame.DataFrame'>\n",
      "RangeIndex: 300 entries, 0 to 299\n",
      "Data columns (total 12 columns):\n",
      " #   Column          Non-Null Count  Dtype  \n",
      "---  ------          --------------  -----  \n",
      " 0   q1              300 non-null    int64  \n",
      " 1   q2              300 non-null    int64  \n",
      " 2   q3              300 non-null    int64  \n",
      " 3   q4              300 non-null    int64  \n",
      " 4   q5              300 non-null    int64  \n",
      " 5   q6              300 non-null    int64  \n",
      " 6   q7              300 non-null    int64  \n",
      " 7   chronotype      300 non-null    object \n",
      " 8   timestamp       300 non-null    object \n",
      " 9   id              300 non-null    int64  \n",
      " 10  score_variance  300 non-null    float64\n",
      " 11  confidence      300 non-null    float64\n",
      "dtypes: float64(2), int64(8), object(2)\n",
      "memory usage: 28.2+ KB\n"
     ]
    }
   ],
   "source": [
    "## Checking the datatypes making sure that every data is clear\n",
    "df.info()"
   ]
  },
  {
   "cell_type": "code",
   "execution_count": 23,
   "metadata": {},
   "outputs": [
    {
     "data": {
      "text/plain": [
       "0    1\n",
       "1    1\n",
       "2    1\n",
       "3    1\n",
       "4    0\n",
       "Name: chronotype, dtype: int64"
      ]
     },
     "execution_count": 23,
     "metadata": {},
     "output_type": "execute_result"
    }
   ],
   "source": [
    "## Identify the data.. - categorical(target values - y) and numerical data(X)\n",
    "X = df.iloc[:, :7]\n",
    "y = df.iloc[:, -2]\n",
    "\n",
    "y.head()"
   ]
  },
  {
   "cell_type": "code",
   "execution_count": 9,
   "metadata": {},
   "outputs": [
    {
     "data": {
      "text/plain": [
       "q1                0\n",
       "q2                0\n",
       "q3                0\n",
       "q4                0\n",
       "q5                0\n",
       "q6                0\n",
       "q7                0\n",
       "chronotype        0\n",
       "timestamp         0\n",
       "id                0\n",
       "score_variance    0\n",
       "confidence        0\n",
       "dtype: int64"
      ]
     },
     "execution_count": 9,
     "metadata": {},
     "output_type": "execute_result"
    }
   ],
   "source": [
    "## Checking the missing values\n",
    "df.isnull().sum()"
   ]
  },
  {
   "cell_type": "code",
   "execution_count": 27,
   "metadata": {},
   "outputs": [
    {
     "data": {
      "text/html": [
       "<div>\n",
       "<style scoped>\n",
       "    .dataframe tbody tr th:only-of-type {\n",
       "        vertical-align: middle;\n",
       "    }\n",
       "\n",
       "    .dataframe tbody tr th {\n",
       "        vertical-align: top;\n",
       "    }\n",
       "\n",
       "    .dataframe thead th {\n",
       "        text-align: right;\n",
       "    }\n",
       "</style>\n",
       "<table border=\"1\" class=\"dataframe\">\n",
       "  <thead>\n",
       "    <tr style=\"text-align: right;\">\n",
       "      <th></th>\n",
       "      <th>q1</th>\n",
       "      <th>q2</th>\n",
       "      <th>q3</th>\n",
       "      <th>q4</th>\n",
       "      <th>q5</th>\n",
       "      <th>q6</th>\n",
       "      <th>q7</th>\n",
       "      <th>chronotype</th>\n",
       "      <th>confidence</th>\n",
       "    </tr>\n",
       "  </thead>\n",
       "  <tbody>\n",
       "    <tr>\n",
       "      <th>q1</th>\n",
       "      <td>1.000000</td>\n",
       "      <td>0.793944</td>\n",
       "      <td>0.799620</td>\n",
       "      <td>0.698160</td>\n",
       "      <td>0.812079</td>\n",
       "      <td>0.749185</td>\n",
       "      <td>0.780435</td>\n",
       "      <td>-0.885238</td>\n",
       "      <td>0.080960</td>\n",
       "    </tr>\n",
       "    <tr>\n",
       "      <th>q2</th>\n",
       "      <td>0.793944</td>\n",
       "      <td>1.000000</td>\n",
       "      <td>0.790090</td>\n",
       "      <td>0.721386</td>\n",
       "      <td>0.811504</td>\n",
       "      <td>0.749620</td>\n",
       "      <td>0.769643</td>\n",
       "      <td>-0.889222</td>\n",
       "      <td>0.047023</td>\n",
       "    </tr>\n",
       "    <tr>\n",
       "      <th>q3</th>\n",
       "      <td>0.799620</td>\n",
       "      <td>0.790090</td>\n",
       "      <td>1.000000</td>\n",
       "      <td>0.719074</td>\n",
       "      <td>0.806085</td>\n",
       "      <td>0.763822</td>\n",
       "      <td>0.776655</td>\n",
       "      <td>-0.894908</td>\n",
       "      <td>0.059792</td>\n",
       "    </tr>\n",
       "    <tr>\n",
       "      <th>q4</th>\n",
       "      <td>0.698160</td>\n",
       "      <td>0.721386</td>\n",
       "      <td>0.719074</td>\n",
       "      <td>1.000000</td>\n",
       "      <td>0.718680</td>\n",
       "      <td>0.655455</td>\n",
       "      <td>0.701915</td>\n",
       "      <td>-0.798636</td>\n",
       "      <td>0.015555</td>\n",
       "    </tr>\n",
       "    <tr>\n",
       "      <th>q5</th>\n",
       "      <td>0.812079</td>\n",
       "      <td>0.811504</td>\n",
       "      <td>0.806085</td>\n",
       "      <td>0.718680</td>\n",
       "      <td>1.000000</td>\n",
       "      <td>0.783337</td>\n",
       "      <td>0.816937</td>\n",
       "      <td>-0.910045</td>\n",
       "      <td>0.066226</td>\n",
       "    </tr>\n",
       "    <tr>\n",
       "      <th>q6</th>\n",
       "      <td>0.749185</td>\n",
       "      <td>0.749620</td>\n",
       "      <td>0.763822</td>\n",
       "      <td>0.655455</td>\n",
       "      <td>0.783337</td>\n",
       "      <td>1.000000</td>\n",
       "      <td>0.747692</td>\n",
       "      <td>-0.853470</td>\n",
       "      <td>-0.007093</td>\n",
       "    </tr>\n",
       "    <tr>\n",
       "      <th>q7</th>\n",
       "      <td>0.780435</td>\n",
       "      <td>0.769643</td>\n",
       "      <td>0.776655</td>\n",
       "      <td>0.701915</td>\n",
       "      <td>0.816937</td>\n",
       "      <td>0.747692</td>\n",
       "      <td>1.000000</td>\n",
       "      <td>-0.873248</td>\n",
       "      <td>0.113332</td>\n",
       "    </tr>\n",
       "    <tr>\n",
       "      <th>chronotype</th>\n",
       "      <td>-0.885238</td>\n",
       "      <td>-0.889222</td>\n",
       "      <td>-0.894908</td>\n",
       "      <td>-0.798636</td>\n",
       "      <td>-0.910045</td>\n",
       "      <td>-0.853470</td>\n",
       "      <td>-0.873248</td>\n",
       "      <td>1.000000</td>\n",
       "      <td>-0.079682</td>\n",
       "    </tr>\n",
       "    <tr>\n",
       "      <th>confidence</th>\n",
       "      <td>0.080960</td>\n",
       "      <td>0.047023</td>\n",
       "      <td>0.059792</td>\n",
       "      <td>0.015555</td>\n",
       "      <td>0.066226</td>\n",
       "      <td>-0.007093</td>\n",
       "      <td>0.113332</td>\n",
       "      <td>-0.079682</td>\n",
       "      <td>1.000000</td>\n",
       "    </tr>\n",
       "  </tbody>\n",
       "</table>\n",
       "</div>"
      ],
      "text/plain": [
       "                  q1        q2        q3        q4        q5        q6  \\\n",
       "q1          1.000000  0.793944  0.799620  0.698160  0.812079  0.749185   \n",
       "q2          0.793944  1.000000  0.790090  0.721386  0.811504  0.749620   \n",
       "q3          0.799620  0.790090  1.000000  0.719074  0.806085  0.763822   \n",
       "q4          0.698160  0.721386  0.719074  1.000000  0.718680  0.655455   \n",
       "q5          0.812079  0.811504  0.806085  0.718680  1.000000  0.783337   \n",
       "q6          0.749185  0.749620  0.763822  0.655455  0.783337  1.000000   \n",
       "q7          0.780435  0.769643  0.776655  0.701915  0.816937  0.747692   \n",
       "chronotype -0.885238 -0.889222 -0.894908 -0.798636 -0.910045 -0.853470   \n",
       "confidence  0.080960  0.047023  0.059792  0.015555  0.066226 -0.007093   \n",
       "\n",
       "                  q7  chronotype  confidence  \n",
       "q1          0.780435   -0.885238    0.080960  \n",
       "q2          0.769643   -0.889222    0.047023  \n",
       "q3          0.776655   -0.894908    0.059792  \n",
       "q4          0.701915   -0.798636    0.015555  \n",
       "q5          0.816937   -0.910045    0.066226  \n",
       "q6          0.747692   -0.853470   -0.007093  \n",
       "q7          1.000000   -0.873248    0.113332  \n",
       "chronotype -0.873248    1.000000   -0.079682  \n",
       "confidence  0.113332   -0.079682    1.000000  "
      ]
     },
     "execution_count": 27,
     "metadata": {},
     "output_type": "execute_result"
    }
   ],
   "source": [
    "df.corr()"
   ]
  },
  {
   "cell_type": "code",
   "execution_count": 28,
   "metadata": {},
   "outputs": [
    {
     "data": {
      "text/plain": [
       "Text(0, 0.5, 'chronotype')"
      ]
     },
     "execution_count": 28,
     "metadata": {},
     "output_type": "execute_result"
    },
    {
     "data": {
      "image/png": "[encoded data removed]",
      "text/plain": [
       "<Figure size 640x480 with 1 Axes>"
      ]
     },
     "metadata": {},
     "output_type": "display_data"
    }
   ],
   "source": [
    "plt.scatter(df[\"q1\"], df[\"chronotype\"])\n",
    "plt.xlabel(\"Question 1\")\n",
    "plt.ylabel(\"chronotype\")"
   ]
  },
  {
   "cell_type": "markdown",
   "metadata": {},
   "source": [
    "## Feature Engineering"
   ]
  },
  {
   "cell_type": "code",
   "execution_count": 15,
   "metadata": {},
   "outputs": [
    {
     "name": "stdout",
     "output_type": "stream",
     "text": [
      "     q1  q2  q3  q4  q5  q6  q7  chronotype            timestamp   id  \\\n",
      "0     0   2   1   1   0   0   0           1  2025-03-14 02:08:53    1   \n",
      "1     2   1   1   0   2   3   0           1  2025-03-14 02:08:53    2   \n",
      "2     1   1   0   0   1   0   0           1  2025-03-14 02:08:53    3   \n",
      "3     2   0   0   1   0   2   0           1  2025-03-14 02:08:53    4   \n",
      "4     5   5   4   2   5   4   4           0  2025-03-14 02:08:53    5   \n",
      "..   ..  ..  ..  ..  ..  ..  ..         ...                  ...  ...   \n",
      "295   5   3   5   4   4   4   3           0  2025-03-14 02:08:53  296   \n",
      "296   5   4   5   3   4   4   3           0  2025-03-14 02:08:53  297   \n",
      "297   0   1   2   0   1   2   2           1  2025-03-14 02:08:53  298   \n",
      "298   0   1   0   3   1   0   1           1  2025-03-14 02:08:53  299   \n",
      "299   4   5   5   5   3   5   3           0  2025-03-14 02:08:53  300   \n",
      "\n",
      "     score_variance  confidence  \n",
      "0          0.619048        60.0  \n",
      "1          1.238095        60.0  \n",
      "2          0.285714        60.0  \n",
      "3          0.904762        60.0  \n",
      "4          1.142857        60.0  \n",
      "..              ...         ...  \n",
      "295        0.666667        60.0  \n",
      "296        0.666667        60.0  \n",
      "297        0.809524        60.0  \n",
      "298        1.142857        60.0  \n",
      "299        0.904762        60.0  \n",
      "\n",
      "[300 rows x 12 columns]\n"
     ]
    }
   ],
   "source": [
    "## Normaize the chronotype column(Morning Lark/Night Owl)) and convert it into numerical format\n",
    "\n",
    "df['chronotype'] = df['chronotype'].map({'Morning Lark': 0, 'Night Owl': 1})\n",
    "print(df)"
   ]
  },
  {
   "cell_type": "code",
   "execution_count": 16,
   "metadata": {},
   "outputs": [],
   "source": [
    "## dropping the unneccessary fields in the dataset. - Timestamp, Id, Score_variance, ...\n",
    "df.drop(columns=['timestamp', 'id', 'score_variance'], inplace=True)"
   ]
  },
  {
   "cell_type": "code",
   "execution_count": 26,
   "metadata": {},
   "outputs": [
    {
     "data": {
      "text/plain": [
       "array([[-1.55851872, -0.3410611 , -0.88903408, ..., -1.50893747,\n",
       "        -1.48980081, -1.40629897],\n",
       "       [-0.46609906, -0.87675915, -0.88903408, ..., -0.40213737,\n",
       "         0.13938598, -1.40629897],\n",
       "       [-1.01230889, -0.87675915, -1.41822104, ..., -0.95553742,\n",
       "        -1.48980081, -1.40629897],\n",
       "       ...,\n",
       "       [-1.55851872, -0.87675915, -0.35984713, ..., -0.95553742,\n",
       "        -0.40367628, -0.34627462],\n",
       "       [-1.55851872, -0.87675915, -1.41822104, ..., -0.95553742,\n",
       "        -1.48980081, -0.87628679],\n",
       "       [ 0.62632061,  1.26603308,  1.22771373, ...,  0.15126268,\n",
       "         1.2255105 ,  0.18373755]])"
      ]
     },
     "execution_count": 26,
     "metadata": {},
     "output_type": "execute_result"
    }
   ],
   "source": [
    "## Scaling the data to have a good convergence\n",
    "from sklearn.preprocessing import StandardScaler\n",
    "scaler = StandardScaler()\n",
    "X_scaled = scaler.fit_transform(X)\n",
    "X_scaled"
   ]
  }
 ],
 "metadata": {
  "kernelspec": {
   "display_name": "Python 3",
   "language": "python",
   "name": "python3"
  },
  "language_info": {
   "codemirror_mode": {
    "name": "ipython",
    "version": 3
   },
   "file_extension": ".py",
   "mimetype": "text/x-python",
   "name": "python",
   "nbconvert_exporter": "python",
   "pygments_lexer": "ipython3",
   "version": "3.9.7"
  }
 },
 "nbformat": 4,
 "nbformat_minor": 2
}
